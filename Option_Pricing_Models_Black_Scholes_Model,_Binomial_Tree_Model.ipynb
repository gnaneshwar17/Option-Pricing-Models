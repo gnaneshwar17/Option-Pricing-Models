{
  "nbformat": 4,
  "nbformat_minor": 0,
  "metadata": {
    "colab": {
      "provenance": []
    },
    "kernelspec": {
      "name": "python3",
      "display_name": "Python 3"
    },
    "language_info": {
      "name": "python"
    }
  },
  "cells": [
    {
      "cell_type": "markdown",
      "source": [
        "** Black-Scholes Model **"
      ],
      "metadata": {
        "id": "YNQfmI4FTf-p"
      }
    },
    {
      "cell_type": "code",
      "execution_count": 4,
      "metadata": {
        "colab": {
          "base_uri": "https://localhost:8080/"
        },
        "id": "lRo-M6CpRCck",
        "outputId": "30d38cf3-6fcf-444d-9a3d-be5c562d8771"
      },
      "outputs": [
        {
          "output_type": "stream",
          "name": "stdout",
          "text": [
            "The price of the European call option is: $40.14\n"
          ]
        }
      ],
      "source": [
        "import numpy as np\n",
        "import scipy.stats as si\n",
        "\n",
        "def black_scholes_call(S, X, T, r, sigma):\n",
        "    # S = current stock price\n",
        "    # X = strike price\n",
        "    # T = time to expiration (in years)\n",
        "    # r = risk-free interest rate\n",
        "    # sigma = volatility of returns\n",
        "\n",
        "    d1 = (np.log(S / X) + (r + 0.5 * sigma ** 2) * T) / (sigma * np.sqrt(T))\n",
        "    d2 = d1 - sigma * np.sqrt(T)\n",
        "\n",
        "    call_price = (S * si.norm.cdf(d1, 0, 1)) - (X * np.exp(-r * T) * si.norm.cdf(d2, 0, 1))\n",
        "\n",
        "    return call_price\n",
        "\n",
        "# Substituted values\n",
        "S = 200    # Current stock price\n",
        "X = 205    # Strike price\n",
        "T = 2      # Time to expiration in years\n",
        "r = 0.05   # Risk-free interest rate\n",
        "sigma = 0.3  # Volatility of the stock\n",
        "\n",
        "# Calculate the call option price\n",
        "call_price = black_scholes_call(S, X, T, r, sigma)\n",
        "\n",
        "print(f\"The price of the European call option is: ${call_price:.2f}\")\n"
      ]
    },
    {
      "cell_type": "markdown",
      "source": [
        "**Binomial Tree Model**"
      ],
      "metadata": {
        "id": "5LOirNGiTlpe"
      }
    },
    {
      "cell_type": "code",
      "source": [
        "import numpy as np\n",
        "\n",
        "def binomial_tree_call(S, X, T, r, sigma, N):\n",
        "    # S = current stock price\n",
        "    # X = strike price\n",
        "    # T = time to expiration (in years)\n",
        "    # r = risk-free interest rate\n",
        "    # sigma = volatility of returns\n",
        "    # N = number of time steps\n",
        "    delta_t = T / N\n",
        "    u = np.exp(sigma * np.sqrt(delta_t))\n",
        "    d = 1 / u\n",
        "    p = (np.exp(r * delta_t) - d) / (u - d)\n",
        "    # Initialize asset prices at maturity\n",
        "    prices = np.zeros(N + 1)\n",
        "    option_values = np.zeros(N + 1)\n",
        "    for i in range(N + 1):\n",
        "        prices[i] = S * (u ** (N - i)) * (d ** i)\n",
        "    # Calculate option values at maturity\n",
        "    for i in range(N + 1):\n",
        "        option_values[i] = max(0, prices[i] - X)\n",
        "    # Step back through the tree\n",
        "    for j in range(N - 1, -1, -1):\n",
        "        prev_option_values = option_values.copy()  # Store the previous option values\n",
        "        for i in range(j + 1):\n",
        "            option_values[i] = np.exp(-r * delta_t) * (p * prev_option_values[i] + (1 - p) * prev_option_values[i + 1])\n",
        "    return option_values[0]\n",
        "\n",
        "# Example usage\n",
        "S = 200  # Current stock price\n",
        "X = 205  # Strike price\n",
        "T = 2    # Time to expiration in years\n",
        "r = 0.05 # Risk-free interest rate\n",
        "sigma = 0.3  # Volatility of the stock\n",
        "N = 3    # Number of steps in the binomial tree\n",
        "call_price = binomial_tree_call(S, X, T, r, sigma, N)\n",
        "print(f\"The price of the call option using the Binomial Tree model is: ${call_price:.2f}\")"
      ],
      "metadata": {
        "colab": {
          "base_uri": "https://localhost:8080/"
        },
        "id": "m4j42uoKTlYu",
        "outputId": "d3d7f83a-4839-4ded-abdd-ead4e5b4a064"
      },
      "execution_count": 6,
      "outputs": [
        {
          "output_type": "stream",
          "name": "stdout",
          "text": [
            "The price of the call option using the Binomial Tree model is: $42.48\n"
          ]
        }
      ]
    }
  ]
}